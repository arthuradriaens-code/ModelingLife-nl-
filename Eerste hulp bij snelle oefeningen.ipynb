{
 "cells": [
  {
   "cell_type": "markdown",
   "metadata": {},
   "source": [
    "# Eerste hulp bij snelle oefeningen"
   ]
  },
  {
   "cell_type": "markdown",
   "metadata": {},
   "source": [
    "## Imports"
   ]
  },
  {
   "cell_type": "code",
   "execution_count": null,
   "metadata": {},
   "outputs": [],
   "source": [
    "import numpy as np\n",
    "import matplotlib.pyplot as plt"
   ]
  },
  {
   "cell_type": "markdown",
   "metadata": {},
   "source": [
    "## Special"
   ]
  },
  {
   "cell_type": "code",
   "execution_count": null,
   "metadata": {},
   "outputs": [],
   "source": [
    "%matplotlib inline\n",
    "%matplotlib nbagg #interactieve plot\n",
    "#als nbagg ni werkt widget\n",
    "%%capture"
   ]
  },
  {
   "cell_type": "markdown",
   "metadata": {},
   "source": [
    "## Plot"
   ]
  },
  {
   "cell_type": "code",
   "execution_count": null,
   "metadata": {},
   "outputs": [],
   "source": [
    "fig,ax = plt.subplots()"
   ]
  },
  {
   "cell_type": "markdown",
   "metadata": {},
   "source": [
    "## meerdere plots"
   ]
  },
  {
   "cell_type": "code",
   "execution_count": null,
   "metadata": {},
   "outputs": [],
   "source": [
    "fig, (ax1, ax2) = plt.subplots(1, 2,figsize=(12,4)) #(1 rij, 2 kolommen met totale grootte figuur figsize)"
   ]
  },
  {
   "cell_type": "markdown",
   "metadata": {},
   "source": [
    "## 3D plots"
   ]
  },
  {
   "cell_type": "code",
   "execution_count": null,
   "metadata": {},
   "outputs": [],
   "source": [
    "import matplotlib.pyplot as plt\n",
    "from mpl_toolkits.mplot3d import Axes3D\n",
    "fig = plt.figure()\n",
    "ax = fig.gca(projection='3d')\n",
    "ax.plot(x, y, z,color='g')\n",
    "plt.show()"
   ]
  },
  {
   "cell_type": "markdown",
   "metadata": {},
   "source": [
    "## Vectorplot i.e meshgrid"
   ]
  },
  {
   "cell_type": "code",
   "execution_count": null,
   "metadata": {},
   "outputs": [],
   "source": [
    "T,S = np.meshgrid(np.linspace(0,100,15),np.linspace(0,100,15))\n",
    "T_ = 0.5*T - 0.01*S*T\n",
    "S_ = 0.005*S*T - 0.2*S\n",
    "M = np.sqrt(T_**2 + S_**2)\n",
    "M[ M == 0] = 1 #vermijden dat er door 0 gedeeld wordt\n",
    "T_ /= M\n",
    "S_ /= M\n",
    "plt.quiver(T,S,T_,S_,M)\n",
    "plt.title('tuna shark')\n",
    "plt.xlabel('tuna')\n",
    "plt.ylabel('shark')\n",
    "plt.colorbar()"
   ]
  },
  {
   "cell_type": "markdown",
   "metadata": {},
   "source": [
    "## Euler"
   ]
  },
  {
   "cell_type": "code",
   "execution_count": null,
   "metadata": {},
   "outputs": [],
   "source": [
    "#versie 1 (intiutiefst):\n",
    "def euler(X_init,Y_init,Z_init,stap=0.1,stappen):\n",
    "    x,y,z = [],[],[]\n",
    "    Xaccent = X_init\n",
    "    Yaccent = Y_init\n",
    "    Zaccent = Z_init\n",
    "    for _ in range(0,stappen):\n",
    "        x.append(Xaccent)\n",
    "        y.append(Yaccent)\n",
    "        z.append(Zaccent)\n",
    "        Xaccent += stap*vergelijkingen(x[-1],y[-1],z[-1])[0]\n",
    "        Yaccent += stap*vergelijkingen(x[-1],y[-1],z[-1])[1]\n",
    "        Zaccent += stap*vergelijkingen(x[-1],y[-1],z[-1])[2]\n",
    "    return x,y,z\n",
    "#versie 2:\n",
    "def euler(X_init,V_init,stappen,stapgrootte):\n",
    "    X = np.zeros(stappen)\n",
    "    V = np.zeros(stappen)\n",
    "    X[0] = X_init\n",
    "    V[0] = V_init\n",
    "    for i in range(stappen-1):\n",
    "        dX,dV = rayleigh(X[i],V[i])\n",
    "        X[i + 1] = X[i] + stapgrootte*dX\n",
    "        V[i + 1] = V[i] + stapgrootte*dV\n",
    "    return X,V"
   ]
  },
  {
   "cell_type": "markdown",
   "metadata": {},
   "source": [
    "## Stabiliteit"
   ]
  },
  {
   "cell_type": "code",
   "execution_count": 1,
   "metadata": {},
   "outputs": [],
   "source": [
    "#versie 0: manueel X' oplossen en kijken of positief/negatief of manueel eigenwaarden vinden\n",
    "\n",
    "#versie 1: perturbatie\n",
    "def stabiel(X_init,k,r):\n",
    "    perturbatie = 0.01\n",
    "    tijdsinterval = 0.01\n",
    "    x = []\n",
    "    X = X_init + perturbatie\n",
    "    for i in range(100):\n",
    "        X += tijdsinterval*verandering(X,k,r)\n",
    "    return abs(X-X_init) <= perturbatie\n",
    "\n",
    "#alternatief voor stabiliteitsanalyse:\n",
    "def stabiel(x, f, u, perturbatie=0.01): #Bekijk de stabiliteit voor bepaalde x-waarden, met f de functies\n",
    "    if f(x + perturbatie, u) < 0 and f(x - perturbatie, u) > 0:\n",
    "        return (1,1) #stabiel links en rechts\n",
    "    elif f(x + perturbatie, u) > 0 and f(x - perturbatie, u) < 0:\n",
    "        return (0,0) #instabiel links en rechts\n",
    "    elif f(x + perturbatie, u) > 0 and f(x - perturbatie, u) > 0:\n",
    "        return (1,0) #stabiel links\n",
    "    elif f(x + perturbatie, u) < 0 and f(x - perturbatie, u) < 0:\n",
    "        return (0,1) #stabiel rechts"
   ]
  },
  {
   "cell_type": "markdown",
   "metadata": {},
   "source": [
    "#### eigenwaarden-methode:"
   ]
  },
  {
   "cell_type": "markdown",
   "metadata": {},
   "source": [
    "Jacobiaan: $$\n",
    "\\left[\n",
    "  \\begin{array}{cc}\n",
    "    \\frac{\\partial X'}{\\partial X} & \\frac{\\partial X'}{\\partial V}\\\\\n",
    "    \\frac{\\partial V'}{\\partial X} & \\frac{\\partial V'}{\\partial V}\\\\\n",
    "  \\end{array}\n",
    "\\right]$$"
   ]
  },
  {
   "cell_type": "code",
   "execution_count": null,
   "metadata": {},
   "outputs": [],
   "source": [
    "from sympy import *"
   ]
  },
  {
   "cell_type": "code",
   "execution_count": null,
   "metadata": {},
   "outputs": [],
   "source": [
    "#1 vergelijking:\n",
    "#X = Symbol('X',real=True) skip imaginaire bois, dit mag blijkbaar niet en beter complexe ook bekijken die heel kleine imaginaire waarde hebben\n",
    "X = Symbol('X')\n",
    "sol = solve(R[r]*(1-X/K[k]) - X/(1+X**2),X)"
   ]
  },
  {
   "cell_type": "markdown",
   "metadata": {},
   "source": [
    "Als je vergelijking simpel is:"
   ]
  },
  {
   "cell_type": "code",
   "execution_count": null,
   "metadata": {},
   "outputs": [],
   "source": [
    "import scipy.linalg as la\n",
    "M = np.array([[9/7,-4/7],[8/7,-9/7]]) #[rij],[rij2]\n",
    "eigenwaarden,eigenvectoren = la.eig(M)"
   ]
  },
  {
   "cell_type": "markdown",
   "metadata": {},
   "source": [
    "Anders:"
   ]
  },
  {
   "cell_type": "code",
   "execution_count": null,
   "metadata": {},
   "outputs": [],
   "source": [
    "N,P = symbols('N P')\n",
    "N_ = N*(1 - N/7) - 0.3*(N*P)/(1 + N)\n",
    "P_ = 0.1*P*(1 - P/N)\n",
    "oplossingen = solve([N_, P_], [N, P]) #da way om 2 vgl op te lossen\n",
    "jac = Matrix([N_, P_]).jacobian([N, P]) #da way om jac uit te rekenen\n",
    "jac_oplossing = jac.subs(N,oplossingen[1][0]).subs(P,oplossingen[1][1])\n",
    "eigenwaarden = jac_oplossing.eigenvals()\n",
    "\n",
    "def stabiliteit2D(eigenwaarden):\n",
    "    eig1, eig2 = tuple(eigenwaarden)\n",
    "    stabiliteit = np.zeros(5) #entry's met 1 corresponderen met: zie beneden\n",
    "    if im(eig1) < 10**-10 and im(eig2) < 10**-10: #zo goed als reeël\n",
    "        if eig1 < 0 and eig2 < 0:\n",
    "            stab = \"Stable node\"\n",
    "            stabiliteit[0] = 1\n",
    "        elif eig1 > 0 and eig2 > 0:\n",
    "            stab = \"Unstable node\"\n",
    "            stabiliteit[1] = 1\n",
    "        else:\n",
    "            stab = \"Saddle point\"\n",
    "            stabiliteit[2] = 1\n",
    "    elif re(eig1) < 0:\n",
    "        stab = \"Stable spiral\"\n",
    "        stabiliteit[3] = 1\n",
    "    else:\n",
    "        stab = \"Unstable spiral or limit cycle\"\n",
    "        stabiliteit[4] = 1\n",
    "    return stab, stabiliteit"
   ]
  },
  {
   "cell_type": "markdown",
   "metadata": {},
   "source": [
    "i.e negatief reëel impl. stabiel <-> onstabiel en als imaginair en reëel deel negatief: stabiele spiraal, anders onstabiele of limit cycle. "
   ]
  },
  {
   "cell_type": "markdown",
   "metadata": {},
   "source": [
    "## Animatie"
   ]
  },
  {
   "cell_type": "markdown",
   "metadata": {},
   "source": [
    "### imports"
   ]
  },
  {
   "cell_type": "code",
   "execution_count": null,
   "metadata": {},
   "outputs": [],
   "source": [
    "from matplotlib.animation import FuncAnimation\n",
    "from IPython.display import HTML"
   ]
  },
  {
   "cell_type": "code",
   "execution_count": null,
   "metadata": {},
   "outputs": [],
   "source": [
    "%%capture\n",
    "fig, ax = plt.subplots()\n",
    "def animate(i):\n",
    "    ax.clear()\n",
    "    ax.set_xlabel('x')\n",
    "    ax.set_ylabel('y')\n",
    "    ax.set_xlim(-1,1)\n",
    "    ax.set_ylim(-1,1)\n",
    "    ax.plot(x,-x-a_lijst[i]*x**3+x)\n",
    "    ax.set_title('a={}'.format(a_lijst[i]))\n",
    "\n",
    "anim = FuncAnimation(fig, animate,frames=20, interval=100)"
   ]
  },
  {
   "cell_type": "code",
   "execution_count": null,
   "metadata": {},
   "outputs": [],
   "source": [
    "HTML(anim.to_jshtml())"
   ]
  },
  {
   "cell_type": "markdown",
   "metadata": {},
   "source": [
    "# Widgets"
   ]
  },
  {
   "cell_type": "code",
   "execution_count": null,
   "metadata": {},
   "outputs": [],
   "source": [
    "%%capture\n",
    "from ipywidgets import *\n",
    "def vergelijking(X,r):\n",
    "    return r*X*(1 - X)\n",
    "\n",
    "#plt:\n",
    "def cobweb(stappen,X_init,r):\n",
    "    X = []\n",
    "    Y = []\n",
    "    plt.figure(figsize=(13,10))\n",
    "    plt.xlim(0,1)\n",
    "    plt.ylim(0,1.1)\n",
    "    T_ = np.arange(0,1,0.001)\n",
    "    X_ = vergelijking(T_,r)\n",
    "    plt.plot(T_,X_,color = 'black')\n",
    "    plt.plot(T_,T_,ls=('dotted'),lw='2',color = 'grey')\n",
    "    #begin:\n",
    "    X.append(X_init)\n",
    "    Y.append(0)\n",
    "    for stap in range(stappen):\n",
    "        Y.append(vergelijking(X[-1],r))\n",
    "        X.append(X[-1])\n",
    "        plt.plot(X[-2:],Y[-2:],color='b')\n",
    "        X.append(Y[-1])\n",
    "        Y.append(Y[-1])\n",
    "        plt.plot(X[-2:],Y[-2:],color='b')\n",
    "\n",
    "#ax:\n",
    "def FHN(I_ext,start,stop,stapgrootte):\n",
    "    fig,ax = plt.subplots(1,figsize=(12,6))\n",
    "    ax.clear()\n",
    "    V,w,I = euler(0,0,I_ext,start,stop,4,stapgrootte)\n",
    "    T = np.arange(0,4,stapgrootte)\n",
    "    ax.plot(T,V,label='spanning')\n",
    "    ax.plot(T,I,label='stroom')\n",
    "    ax.legend()\n",
    "    ax.set_xlim(0,3.5)\n",
    "    ax.set_ylim(-1,1)\n",
    "    "
   ]
  },
  {
   "cell_type": "code",
   "execution_count": null,
   "metadata": {},
   "outputs": [],
   "source": [
    "widgets.interact(cobweb,\n",
    "                 stappen=widgets.IntSlider(description=\"$n_{\\\\rm max}$\", min=2, max=50, value=10, continuous_update=False),\n",
    "                 X_init=widgets.FloatSlider(description=\"$X_0$\", min=0, max=1, step=0.01, value=0.01, continuous_update=False),\n",
    "                 r=widgets.FloatSlider(description=\"$r$\", min=0, max=4, step=0.01, value=4, continuous_update=False));"
   ]
  },
  {
   "cell_type": "markdown",
   "metadata": {},
   "source": [
    "i.e beetje als animatie opm: value is degene waar die op begint"
   ]
  }
 ],
 "metadata": {
  "kernelspec": {
   "display_name": "Python 3",
   "language": "python",
   "name": "python3"
  },
  "language_info": {
   "codemirror_mode": {
    "name": "ipython",
    "version": 3
   },
   "file_extension": ".py",
   "mimetype": "text/x-python",
   "name": "python",
   "nbconvert_exporter": "python",
   "pygments_lexer": "ipython3",
   "version": "3.8.3"
  }
 },
 "nbformat": 4,
 "nbformat_minor": 4
}
